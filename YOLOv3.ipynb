{
 "cells": [
  {
   "cell_type": "code",
   "execution_count": null,
   "metadata": {
    "id": "KnV-ndJgM3e2"
   },
   "outputs": [],
   "source": [
    "\n",
    "from google.colab import drive \n",
    "drive.mount('/content/gdrive')"
   ]
  },
  {
   "cell_type": "code",
   "execution_count": null,
   "metadata": {
    "id": "fTe2PnXvGNei"
   },
   "outputs": [],
   "source": [
    "!ln -s /content/gdrive/My\\ Drive/ /mydrive\n",
    "# loading darknet framework\n",
    "!git clone https://github.com/AlexeyAB/darknet\n",
    "# compile darknet\n",
    "%cd darknet \n",
    "!make\n",
    "# copy yolov3 configuration\n",
    "!cp cfg/yolov3.cfg cfg/yolov3-train.cfg\n",
    "# create two new folders\n",
    "!echo -e '0' > data/obje.names \n",
    "!echo -e 'classes = 0\\ntrain = data/train.txt\\nvalid = data/test.txt\\nnames = data/obje.names\\nbackup = /mydrive/yolo_licence_plate' > data/obje.data\n",
    "# create new folder for images \n",
    "!mkdr data/obje\n",
    "# unzip images for training\n",
    "!unzip ../gdrive/MyDrive/balansirane_slike.zip -d data/obje\n",
    "# path to the images for thraining\n",
    "import glob\n",
    "images_list = glob.glob('data/obje/balansirane_slike/*.jpg')\n",
    "with open('data/train.txt', 'w') as f:\n",
    "    f.write('\\n'.join(images_list))\n",
    "# loading darknet CNN\n",
    "!wget https://pjreddie.com/media/files/darknet53.conv.74\n",
    "# threining CNN\n",
    "!./darknet detector train data/obje.data cfg/yolov3-train.cfg darknet53.conv.74 -dont_show\n"
   ]
  },
  {
   "cell_type": "markdown",
   "metadata": {
    "id": "Crv1l_vsleVL"
   },
   "source": []
  },
  {
   "cell_type": "markdown",
   "metadata": {
    "id": "KE52B7ceV2K8"
   },
   "source": [
    "# New Section"
   ]
  }
 ],
 "metadata": {
  "accelerator": "GPU",
  "colab": {
   "authorship_tag": "ABX9TyM9drqiRqaVdGc5PgyfBIvO",
   "collapsed_sections": [],
   "name": "YOLOv3.ipynb",
   "provenance": []
  },
  "kernelspec": {
   "display_name": "Python 3",
   "language": "python",
   "name": "python3"
  },
  "language_info": {
   "codemirror_mode": {
    "name": "ipython",
    "version": 3
   },
   "file_extension": ".py",
   "mimetype": "text/x-python",
   "name": "python",
   "nbconvert_exporter": "python",
   "pygments_lexer": "ipython3",
   "version": "3.8.3"
  }
 },
 "nbformat": 4,
 "nbformat_minor": 1
}
